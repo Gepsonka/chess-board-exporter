{
 "cells": [
  {
   "cell_type": "code",
   "execution_count": 11,
   "metadata": {},
   "outputs": [],
   "source": [
    "import chess\n",
    "import chess.svg\n",
    "from cairosvg import svg2png "
   ]
  },
  {
   "cell_type": "code",
   "execution_count": 12,
   "metadata": {},
   "outputs": [
    {
     "ename": "ValueError",
     "evalue": "empty fen",
     "output_type": "error",
     "traceback": [
      "\u001b[0;31m---------------------------------------------------------------------------\u001b[0m",
      "\u001b[0;31mIndexError\u001b[0m                                Traceback (most recent call last)",
      "File \u001b[0;32m~/Documents/GitHub/chess-board-exporter/venv/lib/python3.12/site-packages/chess/__init__.py:2463\u001b[0m, in \u001b[0;36mBoard.set_fen\u001b[0;34m(self, fen)\u001b[0m\n\u001b[1;32m   2462\u001b[0m \u001b[38;5;28;01mtry\u001b[39;00m:\n\u001b[0;32m-> 2463\u001b[0m     board_part \u001b[38;5;241m=\u001b[39m \u001b[43mparts\u001b[49m\u001b[38;5;241;43m.\u001b[39;49m\u001b[43mpop\u001b[49m\u001b[43m(\u001b[49m\u001b[38;5;241;43m0\u001b[39;49m\u001b[43m)\u001b[49m\n\u001b[1;32m   2464\u001b[0m \u001b[38;5;28;01mexcept\u001b[39;00m \u001b[38;5;167;01mIndexError\u001b[39;00m:\n",
      "\u001b[0;31mIndexError\u001b[0m: pop from empty list",
      "\nDuring handling of the above exception, another exception occurred:\n",
      "\u001b[0;31mValueError\u001b[0m                                Traceback (most recent call last)",
      "Cell \u001b[0;32mIn[12], line 6\u001b[0m\n\u001b[1;32m      4\u001b[0m data \u001b[38;5;241m=\u001b[39m file\u001b[38;5;241m.\u001b[39mread()\u001b[38;5;241m.\u001b[39msplit(\u001b[38;5;124m'\u001b[39m\u001b[38;5;130;01m\\n\u001b[39;00m\u001b[38;5;124m'\u001b[39m)\n\u001b[1;32m      5\u001b[0m \u001b[38;5;28;01mfor\u001b[39;00m position \u001b[38;5;129;01min\u001b[39;00m data:\n\u001b[0;32m----> 6\u001b[0m     board \u001b[38;5;241m=\u001b[39m \u001b[43mchess\u001b[49m\u001b[38;5;241;43m.\u001b[39;49m\u001b[43mBoard\u001b[49m\u001b[43m(\u001b[49m\u001b[43mposition\u001b[49m\u001b[43m)\u001b[49m\n\u001b[1;32m      7\u001b[0m     svg_board \u001b[38;5;241m=\u001b[39m chess\u001b[38;5;241m.\u001b[39msvg\u001b[38;5;241m.\u001b[39mboard(board\u001b[38;5;241m=\u001b[39mboard)\n\u001b[1;32m      8\u001b[0m     png_bytes \u001b[38;5;241m=\u001b[39m svg2png(bytestring\u001b[38;5;241m=\u001b[39msvg_board\u001b[38;5;241m.\u001b[39mencode(\u001b[38;5;124m'\u001b[39m\u001b[38;5;124mutf-8\u001b[39m\u001b[38;5;124m'\u001b[39m))\n",
      "File \u001b[0;32m~/Documents/GitHub/chess-board-exporter/venv/lib/python3.12/site-packages/chess/__init__.py:1598\u001b[0m, in \u001b[0;36mBoard.__init__\u001b[0;34m(self, fen, chess960)\u001b[0m\n\u001b[1;32m   1596\u001b[0m     \u001b[38;5;28mself\u001b[39m\u001b[38;5;241m.\u001b[39mreset()\n\u001b[1;32m   1597\u001b[0m \u001b[38;5;28;01melse\u001b[39;00m:\n\u001b[0;32m-> 1598\u001b[0m     \u001b[38;5;28;43mself\u001b[39;49m\u001b[38;5;241;43m.\u001b[39;49m\u001b[43mset_fen\u001b[49m\u001b[43m(\u001b[49m\u001b[43mfen\u001b[49m\u001b[43m)\u001b[49m\n",
      "File \u001b[0;32m~/Documents/GitHub/chess-board-exporter/venv/lib/python3.12/site-packages/chess/__init__.py:2465\u001b[0m, in \u001b[0;36mBoard.set_fen\u001b[0;34m(self, fen)\u001b[0m\n\u001b[1;32m   2463\u001b[0m     board_part \u001b[38;5;241m=\u001b[39m parts\u001b[38;5;241m.\u001b[39mpop(\u001b[38;5;241m0\u001b[39m)\n\u001b[1;32m   2464\u001b[0m \u001b[38;5;28;01mexcept\u001b[39;00m \u001b[38;5;167;01mIndexError\u001b[39;00m:\n\u001b[0;32m-> 2465\u001b[0m     \u001b[38;5;28;01mraise\u001b[39;00m \u001b[38;5;167;01mValueError\u001b[39;00m(\u001b[38;5;124m\"\u001b[39m\u001b[38;5;124mempty fen\u001b[39m\u001b[38;5;124m\"\u001b[39m)\n\u001b[1;32m   2467\u001b[0m \u001b[38;5;66;03m# Turn.\u001b[39;00m\n\u001b[1;32m   2468\u001b[0m \u001b[38;5;28;01mtry\u001b[39;00m:\n",
      "\u001b[0;31mValueError\u001b[0m: empty fen"
     ]
    }
   ],
   "source": [
    "# read data from FENs.txt\n",
    "\n",
    "with open('FENs.txt', 'r') as file:\n",
    "    data = file.read().split('\\n')\n",
    "    for position in data:\n",
    "        board = chess.Board(position)\n",
    "        svg_board = chess.svg.board(board=board)\n",
    "        png_bytes = svg2png(bytestring=svg_board.encode('utf-8'))\n",
    "\n",
    "        filename = position.replace('/', '_') + '.png'\n",
    "        with open(f\"./data/{filename}\", \"wb\") as f:\n",
    "            f.write(png_bytes)"
   ]
  }
 ],
 "metadata": {
  "kernelspec": {
   "display_name": "venv",
   "language": "python",
   "name": "python3"
  },
  "language_info": {
   "codemirror_mode": {
    "name": "ipython",
    "version": 3
   },
   "file_extension": ".py",
   "mimetype": "text/x-python",
   "name": "python",
   "nbconvert_exporter": "python",
   "pygments_lexer": "ipython3",
   "version": "3.12.2"
  }
 },
 "nbformat": 4,
 "nbformat_minor": 2
}
